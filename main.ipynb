{
 "cells": [
  {
   "cell_type": "code",
   "execution_count": 0,
   "metadata": {
    "collapsed": true
   },
   "outputs": [],
   "source": [
    "import torch\n",
    "from model import Runner, BatchLoader\n",
    "import os\n",
    "import random\n",
    "\n",
    "\n",
    "device = torch.device(\"cuda\" if torch.cuda.is_available() else \"cpu\")\n",
    "seed = 1538574472\n",
    "random.seed(seed)\n",
    "torch.manual_seed(seed)\n",
    "torch.cuda.manual_seed_all(seed)\n",
    "torch.backends.cudnn.deterministic = True\n",
    "\n",
    "split = '1'\n",
    "action = 'predict'\n",
    "\n",
    "num_blocks = 1\n",
    "num_layers = 2\n",
    "num_channels = 2\n",
    "i3d_dim = 400\n",
    "bz = 1\n",
    "lr = 0.0005\n",
    "end_epoch = 1\n",
    "start_epoch = 0\n",
    "weight_decay = 0.0001\n",
    "\n",
    "COMP_PATH = 'data'\n",
    "\n",
    "vid_list_file = os.path.join(COMP_PATH, \"splits/train.split\"+split+\".bundle\")\n",
    "vid_list_file_tst = os.path.join(COMP_PATH, \"splits/test.split\"+split+\".bundle\")\n",
    "train_features_path = os.path.join(COMP_PATH, \"train_features/\")\n",
    "test_features_path = os.path.join(COMP_PATH, \"test_features/\")\n",
    "gt_path = os.path.join(COMP_PATH, \"groundTruth/\")\n",
    "\n",
    "mapping_file = os.path.join(COMP_PATH, \"splits/mapping_bf.txt\")\n",
    "\n",
    "model_dir = os.path.join(COMP_PATH, \"models\")\n",
    "results_dir = os.path.join(COMP_PATH, \"results\")\n",
    "segment_file = 'test_segment.txt'\n",
    " \n",
    "if not os.path.exists(model_dir):\n",
    "    os.makedirs(model_dir)\n",
    "if not os.path.exists(results_dir):\n",
    "    os.makedirs(results_dir)\n",
    "\n",
    "file_ptr = open(mapping_file, 'r')\n",
    "actions = file_ptr.read().split('\\n')[:-1]\n",
    "file_ptr.close()\n",
    "actions_dict = dict()\n",
    "for a in actions:\n",
    "    actions_dict[a.split()[1]] = int(a.split()[0])\n",
    "\n",
    "num_classes = len(actions_dict)\n",
    "\n",
    "trainer = Runner(num_blocks, num_layers, num_channels, i3d_dim, num_classes)\n",
    "if action == \"train\":\n",
    "    batch_gen = BatchLoader(num_classes, actions_dict, gt_path, train_features_path)\n",
    "    batch_gen.read_vid_list(vid_list_file)\n",
    "    trainer.train(model_dir, batch_gen, end_epoch=end_epoch, batch_size=bz, learning_rate=lr, device=device, start_epoch=start_epoch, weight_decay=weight_decay)\n",
    "\n",
    "if action == \"predict\":\n",
    "    trainer.predict(model_dir, results_dir, test_features_path, vid_list_file_tst, end_epoch, device, segment_file)\n",
    "\n"
   ]
  }
 ],
 "metadata": {
  "kernelspec": {
   "display_name": "Python 3",
   "language": "python",
   "name": "python3"
  },
  "language_info": {
   "codemirror_mode": {
    "name": "ipython",
    "version": 3
   },
   "file_extension": ".py",
   "mimetype": "text/x-python",
   "name": "python",
   "nbconvert_exporter": "python",
   "pygments_lexer": "ipython3",
   "version": "3.6.10"
  }
 },
 "nbformat": 4,
 "nbformat_minor": 0
}